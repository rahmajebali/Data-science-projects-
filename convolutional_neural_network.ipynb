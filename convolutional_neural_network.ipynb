{
 "cells": [
  {
   "cell_type": "markdown",
   "metadata": {
    "id": "3DR-eO17geWu"
   },
   "source": [
    "# Convolutional Neural Network"
   ]
  },
  {
   "cell_type": "markdown",
   "metadata": {
    "id": "EMefrVPCg-60"
   },
   "source": [
    "### Importing the libraries"
   ]
  },
  {
   "cell_type": "code",
   "execution_count": 1,
   "metadata": {
    "id": "jNGVG8PUgUZl"
   },
   "outputs": [],
   "source": [
    "import tensorflow as tf\n",
    "from keras.preprocessing.image import ImageDataGenerator"
   ]
  },
  {
   "cell_type": "code",
   "execution_count": 2,
   "metadata": {
    "colab": {
     "base_uri": "https://localhost:8080/",
     "height": 37
    },
    "id": "rYN3_ay0gqWp",
    "outputId": "a5b8e858-2e16-443e-8a1a-969776b26f70"
   },
   "outputs": [
    {
     "data": {
      "text/plain": [
       "'2.8.0'"
      ]
     },
     "execution_count": 2,
     "metadata": {},
     "output_type": "execute_result"
    }
   ],
   "source": [
    "tf.__version__"
   ]
  },
  {
   "cell_type": "markdown",
   "metadata": {
    "id": "oxQxCBWyoGPE"
   },
   "source": [
    "## Part 1 - Data Preprocessing"
   ]
  },
  {
   "cell_type": "markdown",
   "metadata": {
    "id": "MvE-heJNo3GG"
   },
   "source": [
    "### Preprocessing the Training set"
   ]
  },
  {
   "cell_type": "code",
   "execution_count": 3,
   "metadata": {},
   "outputs": [],
   "source": [
    "train_datagen = ImageDataGenerator(\n",
    "        rescale=1./255,\n",
    "        shear_range=0.2,\n",
    "        zoom_range=0.2,\n",
    "        horizontal_flip=True)"
   ]
  },
  {
   "cell_type": "code",
   "execution_count": 4,
   "metadata": {},
   "outputs": [
    {
     "name": "stdout",
     "output_type": "stream",
     "text": [
      "Found 8000 images belonging to 2 classes.\n"
     ]
    }
   ],
   "source": [
    "training_set = train_datagen.flow_from_directory(\n",
    "        'dataset/training_set',\n",
    "        target_size=(64, 64),\n",
    "        batch_size=32,\n",
    "        class_mode='binary')"
   ]
  },
  {
   "cell_type": "markdown",
   "metadata": {
    "id": "mrCMmGw9pHys"
   },
   "source": [
    "### Preprocessing the Test set"
   ]
  },
  {
   "cell_type": "code",
   "execution_count": 5,
   "metadata": {},
   "outputs": [
    {
     "name": "stdout",
     "output_type": "stream",
     "text": [
      "Found 2000 images belonging to 2 classes.\n"
     ]
    }
   ],
   "source": [
    "test_datagen = ImageDataGenerator(rescale=1./255)\n",
    "test_set = train_datagen.flow_from_directory(\n",
    "        'dataset/test_set',\n",
    "        target_size=(64, 64),\n",
    "        batch_size=32,\n",
    "        class_mode='binary')"
   ]
  },
  {
   "cell_type": "markdown",
   "metadata": {
    "id": "af8O4l90gk7B"
   },
   "source": [
    "## Part 2 - Building the CNN"
   ]
  },
  {
   "cell_type": "markdown",
   "metadata": {
    "id": "ces1gXY2lmoX"
   },
   "source": [
    "### Initialising the CNN"
   ]
  },
  {
   "cell_type": "code",
   "execution_count": 6,
   "metadata": {},
   "outputs": [
    {
     "name": "stderr",
     "output_type": "stream",
     "text": [
      "2022-03-04 11:07:36.865080: I tensorflow/core/platform/cpu_feature_guard.cc:151] This TensorFlow binary is optimized with oneAPI Deep Neural Network Library (oneDNN) to use the following CPU instructions in performance-critical operations:  AVX2 FMA\n",
      "To enable them in other operations, rebuild TensorFlow with the appropriate compiler flags.\n"
     ]
    }
   ],
   "source": [
    "cnn = tf.keras.models.Sequential()"
   ]
  },
  {
   "cell_type": "markdown",
   "metadata": {
    "id": "u5YJj_XMl5LF"
   },
   "source": [
    "### Step 1 - Convolution"
   ]
  },
  {
   "cell_type": "code",
   "execution_count": 8,
   "metadata": {},
   "outputs": [],
   "source": [
    "cnn.add(tf.keras.layers.Conv2D(filters=32,kernel_size=3,activation='relu',input_shape=[64,64,3]))"
   ]
  },
  {
   "cell_type": "markdown",
   "metadata": {
    "id": "tf87FpvxmNOJ"
   },
   "source": [
    "### Step 2 - Pooling"
   ]
  },
  {
   "cell_type": "code",
   "execution_count": 10,
   "metadata": {},
   "outputs": [],
   "source": [
    "cnn.add(tf.keras.layers.MaxPool2D(pool_size=2,strides=2))"
   ]
  },
  {
   "cell_type": "markdown",
   "metadata": {
    "id": "xaTOgD8rm4mU"
   },
   "source": [
    "### Adding a second convolutional layer"
   ]
  },
  {
   "cell_type": "code",
   "execution_count": 11,
   "metadata": {},
   "outputs": [],
   "source": [
    "cnn.add(tf.keras.layers.Conv2D(filters=32,kernel_size=3,activation='relu'))\n",
    "cnn.add(tf.keras.layers.MaxPool2D(pool_size=2,strides=2))"
   ]
  },
  {
   "cell_type": "markdown",
   "metadata": {
    "id": "tmiEuvTunKfk"
   },
   "source": [
    "### Step 3 - Flattening"
   ]
  },
  {
   "cell_type": "code",
   "execution_count": 12,
   "metadata": {},
   "outputs": [],
   "source": [
    "cnn.add(tf.keras.layers.Flatten())"
   ]
  },
  {
   "cell_type": "markdown",
   "metadata": {
    "id": "dAoSECOm203v"
   },
   "source": [
    "### Step 4 - Full Connection"
   ]
  },
  {
   "cell_type": "code",
   "execution_count": 13,
   "metadata": {},
   "outputs": [],
   "source": [
    "cnn.add(tf.keras.layers.Dense(units=120,activation='relu'))"
   ]
  },
  {
   "cell_type": "markdown",
   "metadata": {
    "id": "yTldFvbX28Na"
   },
   "source": [
    "### Step 5 - Output Layer"
   ]
  },
  {
   "cell_type": "code",
   "execution_count": 14,
   "metadata": {},
   "outputs": [],
   "source": [
    "cnn.add(tf.keras.layers.Dense(units=1,activation='sigmoid'))"
   ]
  },
  {
   "cell_type": "markdown",
   "metadata": {
    "id": "D6XkI90snSDl"
   },
   "source": [
    "## Part 3 - Training the CNN"
   ]
  },
  {
   "cell_type": "markdown",
   "metadata": {
    "id": "vfrFQACEnc6i"
   },
   "source": [
    "### Compiling the CNN"
   ]
  },
  {
   "cell_type": "code",
   "execution_count": 15,
   "metadata": {},
   "outputs": [],
   "source": [
    "cnn.compile(optimizer='adam',loss='binary_crossentropy',metrics=['accuracy'])"
   ]
  },
  {
   "cell_type": "markdown",
   "metadata": {
    "id": "ehS-v3MIpX2h"
   },
   "source": [
    "### Training the CNN on the Training set and evaluating it on the Test set"
   ]
  },
  {
   "cell_type": "code",
   "execution_count": 16,
   "metadata": {},
   "outputs": [
    {
     "name": "stdout",
     "output_type": "stream",
     "text": [
      "Epoch 1/25\n",
      "250/250 [==============================] - 40s 158ms/step - loss: 0.6835 - accuracy: 0.5652 - val_loss: 0.6471 - val_accuracy: 0.6310\n",
      "Epoch 2/25\n",
      "250/250 [==============================] - 35s 139ms/step - loss: 0.6279 - accuracy: 0.6551 - val_loss: 0.5988 - val_accuracy: 0.6855\n",
      "Epoch 3/25\n",
      "250/250 [==============================] - 35s 141ms/step - loss: 0.5827 - accuracy: 0.6864 - val_loss: 0.5829 - val_accuracy: 0.7005\n",
      "Epoch 4/25\n",
      "250/250 [==============================] - 33s 132ms/step - loss: 0.5440 - accuracy: 0.7271 - val_loss: 0.5589 - val_accuracy: 0.7160\n",
      "Epoch 5/25\n",
      "250/250 [==============================] - 33s 132ms/step - loss: 0.5066 - accuracy: 0.7511 - val_loss: 0.5674 - val_accuracy: 0.7170\n",
      "Epoch 6/25\n",
      "250/250 [==============================] - 33s 132ms/step - loss: 0.4901 - accuracy: 0.7656 - val_loss: 0.4891 - val_accuracy: 0.7635\n",
      "Epoch 7/25\n",
      "250/250 [==============================] - 33s 133ms/step - loss: 0.4666 - accuracy: 0.7803 - val_loss: 0.4856 - val_accuracy: 0.7655\n",
      "Epoch 8/25\n",
      "250/250 [==============================] - 33s 132ms/step - loss: 0.4391 - accuracy: 0.7936 - val_loss: 0.5733 - val_accuracy: 0.7390\n",
      "Epoch 9/25\n",
      "250/250 [==============================] - 33s 130ms/step - loss: 0.4299 - accuracy: 0.8016 - val_loss: 0.4649 - val_accuracy: 0.7880\n",
      "Epoch 10/25\n",
      "250/250 [==============================] - 33s 133ms/step - loss: 0.4033 - accuracy: 0.8169 - val_loss: 0.4718 - val_accuracy: 0.7775\n",
      "Epoch 11/25\n",
      "250/250 [==============================] - 33s 132ms/step - loss: 0.3898 - accuracy: 0.8238 - val_loss: 0.4742 - val_accuracy: 0.7775\n",
      "Epoch 12/25\n",
      "250/250 [==============================] - 33s 132ms/step - loss: 0.3809 - accuracy: 0.8279 - val_loss: 0.4649 - val_accuracy: 0.7915\n",
      "Epoch 13/25\n",
      "250/250 [==============================] - 33s 134ms/step - loss: 0.3654 - accuracy: 0.8380 - val_loss: 0.4731 - val_accuracy: 0.7955\n",
      "Epoch 14/25\n",
      "250/250 [==============================] - 33s 131ms/step - loss: 0.3522 - accuracy: 0.8454 - val_loss: 0.4820 - val_accuracy: 0.7820\n",
      "Epoch 15/25\n",
      "250/250 [==============================] - 33s 132ms/step - loss: 0.3240 - accuracy: 0.8599 - val_loss: 0.4757 - val_accuracy: 0.7975\n",
      "Epoch 16/25\n",
      "250/250 [==============================] - 31s 126ms/step - loss: 0.3133 - accuracy: 0.8636 - val_loss: 0.4929 - val_accuracy: 0.7975\n",
      "Epoch 17/25\n",
      "250/250 [==============================] - 31s 123ms/step - loss: 0.2987 - accuracy: 0.8731 - val_loss: 0.4878 - val_accuracy: 0.7965\n",
      "Epoch 18/25\n",
      "250/250 [==============================] - 31s 124ms/step - loss: 0.2769 - accuracy: 0.8850 - val_loss: 0.5155 - val_accuracy: 0.7885\n",
      "Epoch 19/25\n",
      "250/250 [==============================] - 31s 123ms/step - loss: 0.2659 - accuracy: 0.8891 - val_loss: 0.4858 - val_accuracy: 0.7985\n",
      "Epoch 20/25\n",
      "250/250 [==============================] - 31s 124ms/step - loss: 0.2519 - accuracy: 0.8957 - val_loss: 0.5066 - val_accuracy: 0.7845\n",
      "Epoch 21/25\n",
      "250/250 [==============================] - 31s 124ms/step - loss: 0.2414 - accuracy: 0.9001 - val_loss: 0.5295 - val_accuracy: 0.7840\n",
      "Epoch 22/25\n",
      "250/250 [==============================] - 31s 124ms/step - loss: 0.2339 - accuracy: 0.9024 - val_loss: 0.5381 - val_accuracy: 0.7995\n",
      "Epoch 23/25\n",
      "250/250 [==============================] - 31s 123ms/step - loss: 0.2140 - accuracy: 0.9145 - val_loss: 0.5721 - val_accuracy: 0.7890\n",
      "Epoch 24/25\n",
      "250/250 [==============================] - 31s 123ms/step - loss: 0.2034 - accuracy: 0.9175 - val_loss: 0.5856 - val_accuracy: 0.7905\n",
      "Epoch 25/25\n",
      "250/250 [==============================] - 31s 125ms/step - loss: 0.1945 - accuracy: 0.9199 - val_loss: 0.6419 - val_accuracy: 0.7880\n"
     ]
    },
    {
     "data": {
      "text/plain": [
       "<keras.callbacks.History at 0x7f7fe20ae460>"
      ]
     },
     "execution_count": 16,
     "metadata": {},
     "output_type": "execute_result"
    }
   ],
   "source": [
    "cnn.fit(x=training_set,validation_data=test_set,epochs=25)"
   ]
  },
  {
   "cell_type": "markdown",
   "metadata": {
    "id": "U3PZasO0006Z"
   },
   "source": [
    "## Part 4 - Making a single prediction"
   ]
  },
  {
   "cell_type": "code",
   "execution_count": 51,
   "metadata": {},
   "outputs": [],
   "source": [
    "import numpy as np\n",
    "from keras.preprocessing import image\n",
    "#load image\n",
    "test_image = image.load_img('dataset/single_prediction/dog.4014.jpg',target_size=(64,64))\n",
    "#convert image to array\n",
    "test_image = image.img_to_array(test_image)\n",
    "#make the same number of batches of the cnn adding extra dimision to the batch\n",
    "test_image = np.expand_dims(test_image,axis=0)"
   ]
  },
  {
   "cell_type": "code",
   "execution_count": 52,
   "metadata": {},
   "outputs": [],
   "source": [
    "result = cnn.predict(test_image/255.0)"
   ]
  },
  {
   "cell_type": "code",
   "execution_count": 53,
   "metadata": {},
   "outputs": [
    {
     "data": {
      "text/plain": [
       "{'cats': 0, 'dogs': 1}"
      ]
     },
     "execution_count": 53,
     "metadata": {},
     "output_type": "execute_result"
    }
   ],
   "source": [
    "#way to encode 1 and 0 on dog and cat\n",
    "training_set.class_indices"
   ]
  },
  {
   "cell_type": "code",
   "execution_count": 54,
   "metadata": {},
   "outputs": [],
   "source": [
    "#result accessin the batch dimision [0] accessin the one image input[0]\n",
    "if result[0][0] > 0.5:\n",
    "    prediction ='dog'\n",
    "else:\n",
    "     prediction ='cat'"
   ]
  },
  {
   "cell_type": "code",
   "execution_count": 55,
   "metadata": {},
   "outputs": [
    {
     "name": "stdout",
     "output_type": "stream",
     "text": [
      "dog\n"
     ]
    }
   ],
   "source": [
    "print(prediction)"
   ]
  },
  {
   "cell_type": "code",
   "execution_count": null,
   "metadata": {},
   "outputs": [],
   "source": []
  }
 ],
 "metadata": {
  "colab": {
   "collapsed_sections": [],
   "name": "Copy of convolutional_neural_network.ipynb",
   "provenance": []
  },
  "kernelspec": {
   "display_name": "Python 3 (ipykernel)",
   "language": "python",
   "name": "python3"
  },
  "language_info": {
   "codemirror_mode": {
    "name": "ipython",
    "version": 3
   },
   "file_extension": ".py",
   "mimetype": "text/x-python",
   "name": "python",
   "nbconvert_exporter": "python",
   "pygments_lexer": "ipython3",
   "version": "3.8.12"
  }
 },
 "nbformat": 4,
 "nbformat_minor": 1
}
